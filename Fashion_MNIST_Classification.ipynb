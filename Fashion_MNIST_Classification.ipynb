{
  "nbformat": 4,
  "nbformat_minor": 0,
  "metadata": {
    "colab": {
      "provenance": []
    },
    "kernelspec": {
      "name": "python3",
      "display_name": "Python 3"
    },
    "language_info": {
      "name": "python"
    }
  },
  "cells": [
    {
      "cell_type": "code",
      "source": [
        "import tensorflow as tf"
      ],
      "metadata": {
        "id": "_6o8mu4gdB0J"
      },
      "execution_count": 1,
      "outputs": []
    },
    {
      "cell_type": "code",
      "source": [
        "# Dataset\n",
        "fashion_mnist = tf.keras.datasets.fashion_mnist\n",
        "\n",
        "\n",
        "(x_train, y_train), (x_test, y_test) = fashion_mnist.load_data()\n",
        "\n",
        "x_train = x_train.astype('float32') / 255.0\n",
        "x_test = x_test.astype('float32') / 255.0\n",
        "\n",
        "model = tf.keras.Sequential([\n",
        "    tf.keras.layers.Flatten(input_shape=(28, 28, 1)),\n",
        "    tf.keras.layers.Dense(128, activation='relu'),\n",
        "    tf.keras.layers.Dense(10, activation='softmax')\n",
        "])\n",
        "\n",
        "model.compile(optimizer='adam',\n",
        "              loss='sparse_categorical_crossentropy',\n",
        "              metrics=['accuracy'])\n",
        "\n",
        "model.fit(x_train,\n",
        "          y_train,\n",
        "          epochs=50,\n",
        "          validation_data=(x_test, y_test))\n",
        "\n",
        "model.save(\"model.h5\")\n"
      ],
      "metadata": {
        "id": "nM-Rq92qdDkR",
        "colab": {
          "base_uri": "https://localhost:8080/"
        },
        "outputId": "4e3c8ac6-c544-48fc-c95a-0492ccf6ce14"
      },
      "execution_count": 3,
      "outputs": [
        {
          "output_type": "stream",
          "name": "stdout",
          "text": [
            "Epoch 1/50\n",
            "1875/1875 [==============================] - 10s 5ms/step - loss: 0.5028 - accuracy: 0.8230 - val_loss: 0.4415 - val_accuracy: 0.8420\n",
            "Epoch 2/50\n",
            "1875/1875 [==============================] - 8s 4ms/step - loss: 0.3792 - accuracy: 0.8626 - val_loss: 0.4284 - val_accuracy: 0.8502\n",
            "Epoch 3/50\n",
            "1875/1875 [==============================] - 9s 5ms/step - loss: 0.3404 - accuracy: 0.8760 - val_loss: 0.3619 - val_accuracy: 0.8735\n",
            "Epoch 4/50\n",
            "1875/1875 [==============================] - 9s 5ms/step - loss: 0.3145 - accuracy: 0.8850 - val_loss: 0.3777 - val_accuracy: 0.8644\n",
            "Epoch 5/50\n",
            "1875/1875 [==============================] - 8s 4ms/step - loss: 0.2971 - accuracy: 0.8904 - val_loss: 0.3460 - val_accuracy: 0.8801\n",
            "Epoch 6/50\n",
            "1875/1875 [==============================] - 9s 5ms/step - loss: 0.2824 - accuracy: 0.8959 - val_loss: 0.3495 - val_accuracy: 0.8761\n",
            "Epoch 7/50\n",
            "1875/1875 [==============================] - 9s 5ms/step - loss: 0.2698 - accuracy: 0.8996 - val_loss: 0.3559 - val_accuracy: 0.8781\n",
            "Epoch 8/50\n",
            "1875/1875 [==============================] - 8s 4ms/step - loss: 0.2598 - accuracy: 0.9042 - val_loss: 0.3535 - val_accuracy: 0.8777\n",
            "Epoch 9/50\n",
            "1875/1875 [==============================] - 9s 5ms/step - loss: 0.2474 - accuracy: 0.9072 - val_loss: 0.3508 - val_accuracy: 0.8770\n",
            "Epoch 10/50\n",
            "1875/1875 [==============================] - 9s 5ms/step - loss: 0.2384 - accuracy: 0.9110 - val_loss: 0.3370 - val_accuracy: 0.8860\n",
            "Epoch 11/50\n",
            "1875/1875 [==============================] - 8s 4ms/step - loss: 0.2304 - accuracy: 0.9134 - val_loss: 0.3381 - val_accuracy: 0.8844\n",
            "Epoch 12/50\n",
            "1875/1875 [==============================] - 8s 4ms/step - loss: 0.2238 - accuracy: 0.9173 - val_loss: 0.3392 - val_accuracy: 0.8830\n",
            "Epoch 13/50\n",
            "1875/1875 [==============================] - 9s 5ms/step - loss: 0.2166 - accuracy: 0.9198 - val_loss: 0.3555 - val_accuracy: 0.8834\n",
            "Epoch 14/50\n",
            "1875/1875 [==============================] - 8s 4ms/step - loss: 0.2114 - accuracy: 0.9204 - val_loss: 0.3826 - val_accuracy: 0.8680\n",
            "Epoch 15/50\n",
            "1875/1875 [==============================] - 8s 4ms/step - loss: 0.2067 - accuracy: 0.9221 - val_loss: 0.3552 - val_accuracy: 0.8829\n",
            "Epoch 16/50\n",
            "1875/1875 [==============================] - 9s 5ms/step - loss: 0.2004 - accuracy: 0.9249 - val_loss: 0.3585 - val_accuracy: 0.8826\n",
            "Epoch 17/50\n",
            "1875/1875 [==============================] - 8s 4ms/step - loss: 0.1948 - accuracy: 0.9279 - val_loss: 0.3598 - val_accuracy: 0.8824\n",
            "Epoch 18/50\n",
            "1875/1875 [==============================] - 8s 4ms/step - loss: 0.1873 - accuracy: 0.9293 - val_loss: 0.3692 - val_accuracy: 0.8820\n",
            "Epoch 19/50\n",
            "1875/1875 [==============================] - 9s 5ms/step - loss: 0.1833 - accuracy: 0.9315 - val_loss: 0.3502 - val_accuracy: 0.8886\n",
            "Epoch 20/50\n",
            "1875/1875 [==============================] - 7s 4ms/step - loss: 0.1779 - accuracy: 0.9333 - val_loss: 0.3730 - val_accuracy: 0.8848\n",
            "Epoch 21/50\n",
            "1875/1875 [==============================] - 9s 5ms/step - loss: 0.1743 - accuracy: 0.9348 - val_loss: 0.3677 - val_accuracy: 0.8847\n",
            "Epoch 22/50\n",
            "1875/1875 [==============================] - 9s 5ms/step - loss: 0.1718 - accuracy: 0.9352 - val_loss: 0.3808 - val_accuracy: 0.8850\n",
            "Epoch 23/50\n",
            "1875/1875 [==============================] - 8s 4ms/step - loss: 0.1686 - accuracy: 0.9360 - val_loss: 0.3892 - val_accuracy: 0.8870\n",
            "Epoch 24/50\n",
            "1875/1875 [==============================] - 9s 5ms/step - loss: 0.1629 - accuracy: 0.9393 - val_loss: 0.3607 - val_accuracy: 0.8904\n",
            "Epoch 25/50\n",
            "1875/1875 [==============================] - 9s 5ms/step - loss: 0.1580 - accuracy: 0.9407 - val_loss: 0.3985 - val_accuracy: 0.8840\n",
            "Epoch 26/50\n",
            "1875/1875 [==============================] - 8s 5ms/step - loss: 0.1562 - accuracy: 0.9411 - val_loss: 0.3775 - val_accuracy: 0.8834\n",
            "Epoch 27/50\n",
            "1875/1875 [==============================] - 8s 4ms/step - loss: 0.1534 - accuracy: 0.9426 - val_loss: 0.3905 - val_accuracy: 0.8882\n",
            "Epoch 28/50\n",
            "1875/1875 [==============================] - 9s 5ms/step - loss: 0.1488 - accuracy: 0.9449 - val_loss: 0.4095 - val_accuracy: 0.8868\n",
            "Epoch 29/50\n",
            "1875/1875 [==============================] - 8s 4ms/step - loss: 0.1471 - accuracy: 0.9455 - val_loss: 0.4160 - val_accuracy: 0.8889\n",
            "Epoch 30/50\n",
            "1875/1875 [==============================] - 8s 4ms/step - loss: 0.1430 - accuracy: 0.9459 - val_loss: 0.4141 - val_accuracy: 0.8876\n",
            "Epoch 31/50\n",
            "1875/1875 [==============================] - 9s 5ms/step - loss: 0.1393 - accuracy: 0.9481 - val_loss: 0.4037 - val_accuracy: 0.8847\n",
            "Epoch 32/50\n",
            "1875/1875 [==============================] - 8s 4ms/step - loss: 0.1395 - accuracy: 0.9475 - val_loss: 0.4165 - val_accuracy: 0.8865\n",
            "Epoch 33/50\n",
            "1875/1875 [==============================] - 8s 4ms/step - loss: 0.1345 - accuracy: 0.9490 - val_loss: 0.4388 - val_accuracy: 0.8848\n",
            "Epoch 34/50\n",
            "1875/1875 [==============================] - 9s 5ms/step - loss: 0.1329 - accuracy: 0.9502 - val_loss: 0.4616 - val_accuracy: 0.8853\n",
            "Epoch 35/50\n",
            "1875/1875 [==============================] - 9s 5ms/step - loss: 0.1309 - accuracy: 0.9507 - val_loss: 0.4304 - val_accuracy: 0.8866\n",
            "Epoch 36/50\n",
            "1875/1875 [==============================] - 9s 5ms/step - loss: 0.1255 - accuracy: 0.9528 - val_loss: 0.4451 - val_accuracy: 0.8878\n",
            "Epoch 37/50\n",
            "1875/1875 [==============================] - 9s 5ms/step - loss: 0.1242 - accuracy: 0.9537 - val_loss: 0.4433 - val_accuracy: 0.8855\n",
            "Epoch 38/50\n",
            "1875/1875 [==============================] - 9s 5ms/step - loss: 0.1225 - accuracy: 0.9543 - val_loss: 0.4569 - val_accuracy: 0.8858\n",
            "Epoch 39/50\n",
            "1875/1875 [==============================] - 8s 4ms/step - loss: 0.1190 - accuracy: 0.9561 - val_loss: 0.4640 - val_accuracy: 0.8880\n",
            "Epoch 40/50\n",
            "1875/1875 [==============================] - 9s 5ms/step - loss: 0.1180 - accuracy: 0.9564 - val_loss: 0.4527 - val_accuracy: 0.8890\n",
            "Epoch 41/50\n",
            "1875/1875 [==============================] - 9s 5ms/step - loss: 0.1157 - accuracy: 0.9560 - val_loss: 0.4695 - val_accuracy: 0.8887\n",
            "Epoch 42/50\n",
            "1875/1875 [==============================] - 8s 4ms/step - loss: 0.1125 - accuracy: 0.9582 - val_loss: 0.4999 - val_accuracy: 0.8836\n",
            "Epoch 43/50\n",
            "1875/1875 [==============================] - 9s 5ms/step - loss: 0.1111 - accuracy: 0.9583 - val_loss: 0.4710 - val_accuracy: 0.8860\n",
            "Epoch 44/50\n",
            "1875/1875 [==============================] - 9s 5ms/step - loss: 0.1091 - accuracy: 0.9589 - val_loss: 0.4763 - val_accuracy: 0.8861\n",
            "Epoch 45/50\n",
            "1875/1875 [==============================] - 8s 4ms/step - loss: 0.1104 - accuracy: 0.9584 - val_loss: 0.4839 - val_accuracy: 0.8837\n",
            "Epoch 46/50\n",
            "1875/1875 [==============================] - 9s 5ms/step - loss: 0.1058 - accuracy: 0.9597 - val_loss: 0.4987 - val_accuracy: 0.8851\n",
            "Epoch 47/50\n",
            "1875/1875 [==============================] - 9s 5ms/step - loss: 0.1042 - accuracy: 0.9609 - val_loss: 0.5094 - val_accuracy: 0.8861\n",
            "Epoch 48/50\n",
            "1875/1875 [==============================] - 8s 4ms/step - loss: 0.1015 - accuracy: 0.9616 - val_loss: 0.5187 - val_accuracy: 0.8826\n",
            "Epoch 49/50\n",
            "1875/1875 [==============================] - 9s 5ms/step - loss: 0.1006 - accuracy: 0.9628 - val_loss: 0.5309 - val_accuracy: 0.8866\n",
            "Epoch 50/50\n",
            "1875/1875 [==============================] - 9s 5ms/step - loss: 0.0985 - accuracy: 0.9627 - val_loss: 0.5359 - val_accuracy: 0.8867\n"
          ]
        },
        {
          "output_type": "stream",
          "name": "stderr",
          "text": [
            "/usr/local/lib/python3.10/dist-packages/keras/src/engine/training.py:3103: UserWarning: You are saving your model as an HDF5 file via `model.save()`. This file format is considered legacy. We recommend using instead the native Keras format, e.g. `model.save('my_model.keras')`.\n",
            "  saving_api.save_model(\n"
          ]
        }
      ]
    }
  ]
}